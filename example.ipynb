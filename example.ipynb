{
 "cells": [
  {
   "cell_type": "code",
   "execution_count": 1,
   "id": "2bb0e8b2-4fd5-45b7-970a-307aadd9d246",
   "metadata": {},
   "outputs": [],
   "source": [
    "import pandas as pd\n",
    "import plotly.express as px\n",
    "df=px.data.tips()\n",
    "fig=px.bar(df,x='day',y='total_bill',color='sex')\n",
    "fig.show()"
   ]
  },
  {
   "cell_type": "code",
   "execution_count": 2,
   "id": "ef20e6e4-a8df-441a-b919-2bdb5d6c6ce4",
   "metadata": {},
   "outputs": [],
   "source": [
    "import pandas as pd\n",
    "import plotly.express as px\n",
    "df=px.data.tips()\n",
    "fig=px.bar(df,x='day',y='total_bill',color='sex',facet_row='time',facet_col='sex')\n",
    "fig.show()"
   ]
  },
  {
   "cell_type": "code",
   "execution_count": 3,
   "id": "fe990a25-ef35-4a14-99be-52a276959c99",
   "metadata": {},
   "outputs": [],
   "source": [
    "import pandas as pd\n",
    "import plotly.express as px\n",
    "df=pd.read_csv('housing.csv')\n",
    "fig=px.bar(df,x='ocean_proximity',y='population',color='households')\n",
    "           # ,facet_row='total_rooms',facet_col='total_bedrooms')\n",
    "fig.show()"
   ]
  },
  {
   "cell_type": "code",
   "execution_count": 4,
   "id": "3d88385d-f959-44d2-a3d4-8a566fad5555",
   "metadata": {},
   "outputs": [],
   "source": [
    "df=px.data.tips()\n",
    "fig=px.scatter(df,x='total_bill',y='tip',color='time',symbol='sex',size='size',facet_row='day',facet_col='time')\n",
    "fig.show()"
   ]
  },
  {
   "cell_type": "code",
   "execution_count": 5,
   "id": "dbc95f9b-6afa-46b2-8a53-07f3657d588b",
   "metadata": {},
   "outputs": [],
   "source": [
    "import plotly.graph_objects as px\n",
    "import pandas as pd\n",
    "df=pd.read_csv('housing.csv')\n",
    "plot=px.Figure(data=[px.Scatter(x=df['population'],\n",
    "                                y=df['median_income'],mode='markers',)])\n",
    "plot.update_layout(updatemenus=[dict(buttons=list([dict(\n",
    "    args=['type','scatter'],label='Scatter Plot',\n",
    "    method='restyle'),\n",
    "    dict(args=['type','bar'],\n",
    "        label='Bar Chart',\n",
    "        method='restyle')\n",
    "                                                 ]),\n",
    "                                    direction='down',\n",
    "                                   ),\n",
    "                              ]\n",
    "                 )\n",
    "plot.show()"
   ]
  },
  {
   "cell_type": "code",
   "execution_count": null,
   "id": "c31130be-ce8c-4775-afc3-d37b9972921b",
   "metadata": {},
   "outputs": [],
   "source": []
  }
 ],
 "metadata": {
  "kernelspec": {
   "display_name": "Python 3 (ipykernel)",
   "language": "python",
   "name": "python3"
  },
  "language_info": {
   "codemirror_mode": {
    "name": "ipython",
    "version": 3
   },
   "file_extension": ".py",
   "mimetype": "text/x-python",
   "name": "python",
   "nbconvert_exporter": "python",
   "pygments_lexer": "ipython3",
   "version": "3.13.2"
  }
 },
 "nbformat": 4,
 "nbformat_minor": 5
}
